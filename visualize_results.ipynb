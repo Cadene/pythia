{
 "cells": [
  {
   "cell_type": "code",
   "execution_count": 27,
   "metadata": {},
   "outputs": [],
   "source": [
    "import json\n",
    "import os\n",
    "from random import shuffle\n",
    "from IPython.display import Image, display, clear_output\n",
    "\n",
    "results = '/checkpoint/nvivek/test_large_answers_fixed/results/baseline_vizwiz_predict/88513/best_model_predict_val.json'\n",
    "\n",
    "# results = '/private/home/nvivek/vizwiz_ensemble_07_31_1.json'\n",
    "with open(results, 'r') as f:\n",
    "    predictions = json.load(f)\n",
    "\n",
    "shuffle(predictions)\n",
    "im_dir = '/private/home/nvivek/vizwiz/Images'\n",
    "\n",
    "test_questions_file = '/private/home/nvivek/VQA/training_data/v2_OpenEnded_mscoco_vizwiz_val_questions.json'\n",
    "\n",
    "with open(test_questions_file, 'r') as f:\n",
    "    test_questions = json.load(f)\n",
    "\n",
    "test_questions = test_questions['questions']\n",
    "\n",
    "def isInt(s):\n",
    "    try: \n",
    "        int(s)\n",
    "        return True\n",
    "    except ValueError:\n",
    "        return False"
   ]
  },
  {
   "cell_type": "code",
   "execution_count": 28,
   "metadata": {},
   "outputs": [
    {
     "name": "stdout",
     "output_type": "stream",
     "text": [
      "Unsuitable 23.416325244248345\n",
      "Unanswerable 36.054207374724236\n",
      "Yes/No 4.979514654900725\n",
      "Other 34.572959344468956\n",
      "Number 0.9769933816577372\n"
     ]
    }
   ],
   "source": [
    "uns = 0\n",
    "una = 0\n",
    "yn = 0\n",
    "other = 0\n",
    "number = 0\n",
    "index = 28000\n",
    "\n",
    "for prediction in predictions:\n",
    "    im_file = prediction['image']\n",
    "    im_path = os.path.join(im_dir, im_file)\n",
    "    image_id = int(im_file.replace('.jpg','').split('_')[-1])\n",
    "    question = test_questions[image_id - index]\n",
    "    answer = prediction['answer']\n",
    "#     clear_output()\n",
    "#     display(Image(filename=im_path))\n",
    "#     print(im_path)\n",
    "#     print(question)\n",
    "#     print(answer)\n",
    "#     command = input()\n",
    "#     if command == 'bye':\n",
    "#         break\n",
    "#     else:\n",
    "#         continue\n",
    "    if answer == 'unsuitable':\n",
    "        uns += 1\n",
    "    elif answer == 'unanswerable':\n",
    "        una += 1\n",
    "    elif answer == 'yes' or answer == 'no':\n",
    "        yn += 1\n",
    "    elif isInt(answer):\n",
    "        number += 1\n",
    "    else:\n",
    "        other += 1\n",
    "\n",
    "print(\"Unsuitable \" + str(uns*100.0/3173))\n",
    "print(\"Unanswerable \" + str(una*100.0/3173))\n",
    "print(\"Yes/No \" + str(yn*100.0/3173))\n",
    "print(\"Other \" + str(other*100.0/3173))\n",
    "print(\"Number \" + str(number*100.0/3173))"
   ]
  },
  {
   "cell_type": "code",
   "execution_count": null,
   "metadata": {},
   "outputs": [],
   "source": []
  }
 ],
 "metadata": {
  "kernelspec": {
   "display_name": "Python 3",
   "language": "python",
   "name": "python3"
  },
  "language_info": {
   "codemirror_mode": {
    "name": "ipython",
    "version": 3
   },
   "file_extension": ".py",
   "mimetype": "text/x-python",
   "name": "python",
   "nbconvert_exporter": "python",
   "pygments_lexer": "ipython3",
   "version": "3.6.5"
  }
 },
 "nbformat": 4,
 "nbformat_minor": 2
}
